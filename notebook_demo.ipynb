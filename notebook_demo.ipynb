{
 "cells": [
  {
   "cell_type": "markdown",
   "id": "45188dfa",
   "metadata": {},
   "source": [
    "# Diseño Básico de Vigas de Hormigón Armado en Python\n",
    "## Proyecto: Aplicación para diseño estructural (Flexión, Cortante y Flexocompresión)\n",
    "### 1. INTRODUCCIÓN:\n",
    "El objetivo de este trabajo es desarrollar una aplicación en Python (Jupyter Notebook) que realice el diseño básico de vigas de hormigón armado sometidas a esfuerzos de flexión, cortante y flexo-compresión, aplicando los criterios de resistencia admisible de las normas ACI 318 / CIRSOC 201.\n",
    "\n",
    "Además, se busca incorporar un módulo de optimización que seleccione la sección más eficiente en términos estructurales y económicos.\n",
    "\n",
    "\n"
   ]
  },
  {
   "cell_type": "markdown",
   "id": "df6cd84d",
   "metadata": {},
   "source": [
    "### 2. OBJETIVOS:\n",
    "- Calcular las solicitaciones (momentos y cortantes) aplicadas a una viga.\n",
    "\n",
    "- Determinar la capacidad resistente del elemento a flexión y cortante.\n",
    "\n",
    "- Calcular la cantidad de acero de refuerzo necesaria para cumplir con la resistencia requerida.\n",
    "\n",
    "- Verificar los estados límite de servicio.\n",
    "\n",
    "- Proponer una sección óptima según resistencia y costo.\n",
    "\n",
    "- Exportar los resultados en Excel o PDF."
   ]
  },
  {
   "cell_type": "code",
   "execution_count": 7,
   "id": "1f812872",
   "metadata": {},
   "outputs": [],
   "source": [
    "import numpy as np\n",
    "import pandas as pd\n",
    "import matplotlib.pyplot as plt\n",
    "from math import sqrt"
   ]
  },
  {
   "cell_type": "markdown",
   "id": "9f7df472",
   "metadata": {},
   "source": [
    "### 3. FUNDAMENTOS TEÓRICOS:\n",
    "#### 3.1. Diagrama de esfuerzos: \n",
    "3.1.1. Para una viga simplemente apoyada con carga distribuida $w$ y carga puntual $P$, el Momento y el cortante, en una posición dada de la barra (de longitud $l$), es:\n",
    "$$M(x) = R_A*x - \\frac{w*x^2}{2}$$\n",
    "$$V(x) = R_A - {w*x}$$\n",
    "$$R_A = R_B$$\n",
    "- $R_A$ y $R_B$ son las reacciones en los apoyos/extremos de la viga.\n",
    "- $V(x)$: Fuerza Cortante en la sección \"$x$\".\n",
    "- $M(x)$: Momento Cortante en la sección \"$x$\".\n",
    "\n",
    "El momento máximo ocurre en el centro de la luz: \n",
    "$$M_{máx} = \\frac{w*L^2}{8}$$\n",
    "\n",
    "El cortante máximo ocurre en el apoyo: \n",
    "$$V_{máx} = R_A = R_B$$\n"
   ]
  },
  {
   "cell_type": "code",
   "execution_count": 15,
   "id": "cfe5f70e",
   "metadata": {},
   "outputs": [],
   "source": [
    "# Fuerzas en N: Newtons\n",
    "# Longitud en mm: milímetros\n",
    "# Momentos en N.mm: Newtons por milímetros\n",
    "# Tensiones y/o esfuerzos en N.mm^2: Newtons por milímetros cuadrados\n",
    "def fuerzas(L, P = None, w = 0.0): # L = longitud de la barra. P = Carga Puntual. w = carga distribuída. Inicialmente P y w son ambos de valor cero.\n",
    "    \n",
    "    # P es una lista de tuplas (x, P_x): Posición y valor de la carga puntual\n",
    "\n",
    "    # Reacciones en los apoyos por carga distribuída:\n",
    "    RA = w * L / 2\n",
    "    RB = RA\n",
    "    \n",
    "    # Reacciones en los apoyos por cargas puntuales:\n",
    "    if P:\n",
    "        for x, P_x in P:\n",
    "            RA += P_x * (L - x) / L\n",
    "            RB += P_x * x / L\n",
    "    xs = np.linspace(0, L, 501)\n",
    "    V = np.zeros_like(xs)\n",
    "    M = np.zeros_like(xs)\n",
    "    for i, x in enumerate(xs):\n",
    "        v = 0.0 # Iniciar las reacciones\n",
    "        m = 0.0 # Iniciar el momento\n",
    "        v += RA\n",
    "        m += RA * x\n",
    "    \n",
    "    # Restar la carga distribuída:\n",
    "    v -= w * x\n",
    "    m -= w * x * x / 2\n",
    "    \n",
    "    # Restar las cargas puntuales a la derecha de x:\n",
    "    if P:\n",
    "        for xp, P_x in P:\n",
    "                if xp <= x:\n",
    "                    v -= P_x\n",
    "                    m -= P_x * (x - xp)\n",
    "    \n",
    "    # Agregar reacción RB si x > location of RB (RB actúa en soporte B en x = L)\n",
    "    if x >= L:\n",
    "        v += RB\n",
    "        m += RB * (x - L)\n",
    "        V[i] = v\n",
    "        M[i] = m\n",
    "    return xs, V, M, (RA, RB)\n"
   ]
  },
  {
   "cell_type": "code",
   "execution_count": null,
   "id": "3f3c4217",
   "metadata": {},
   "outputs": [],
   "source": []
  },
  {
   "cell_type": "code",
   "execution_count": null,
   "id": "3f4a6cb2",
   "metadata": {},
   "outputs": [],
   "source": []
  },
  {
   "cell_type": "code",
   "execution_count": null,
   "id": "0cef2e84",
   "metadata": {},
   "outputs": [],
   "source": []
  },
  {
   "cell_type": "code",
   "execution_count": null,
   "id": "07b04c75",
   "metadata": {},
   "outputs": [],
   "source": []
  },
  {
   "cell_type": "code",
   "execution_count": 8,
   "id": "d71b2670",
   "metadata": {},
   "outputs": [],
   "source": [
    "#x = np.linspace(0, 10, 100)\n",
    "#y = np.sin(x)\n",
    "#plt.plot(x,y)\n",
    "#plt.title('Ejemplo simple')\n",
    "#plt.show()"
   ]
  }
 ],
 "metadata": {
  "kernelspec": {
   "display_name": "python_env",
   "language": "python",
   "name": "python3"
  },
  "language_info": {
   "codemirror_mode": {
    "name": "ipython",
    "version": 3
   },
   "file_extension": ".py",
   "mimetype": "text/x-python",
   "name": "python",
   "nbconvert_exporter": "python",
   "pygments_lexer": "ipython3",
   "version": "3.12.11"
  }
 },
 "nbformat": 4,
 "nbformat_minor": 5
}
